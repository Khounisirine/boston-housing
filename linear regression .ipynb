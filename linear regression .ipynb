{
 "cells": [
  {
   "cell_type": "code",
   "execution_count": 1,
   "id": "c8c43948",
   "metadata": {},
   "outputs": [
    {
     "data": {
      "text/html": [
       "<div>\n",
       "<style scoped>\n",
       "    .dataframe tbody tr th:only-of-type {\n",
       "        vertical-align: middle;\n",
       "    }\n",
       "\n",
       "    .dataframe tbody tr th {\n",
       "        vertical-align: top;\n",
       "    }\n",
       "\n",
       "    .dataframe thead th {\n",
       "        text-align: right;\n",
       "    }\n",
       "</style>\n",
       "<table border=\"1\" class=\"dataframe\">\n",
       "  <thead>\n",
       "    <tr style=\"text-align: right;\">\n",
       "      <th></th>\n",
       "      <th>LSTAT</th>\n",
       "      <th>INDUS</th>\n",
       "      <th>NOX</th>\n",
       "      <th>RM</th>\n",
       "      <th>MEDV</th>\n",
       "    </tr>\n",
       "  </thead>\n",
       "  <tbody>\n",
       "    <tr>\n",
       "      <th>0</th>\n",
       "      <td>0</td>\n",
       "      <td>4.98</td>\n",
       "      <td>2.31</td>\n",
       "      <td>0.538</td>\n",
       "      <td>6.575</td>\n",
       "    </tr>\n",
       "    <tr>\n",
       "      <th>1</th>\n",
       "      <td>1</td>\n",
       "      <td>9.14</td>\n",
       "      <td>7.07</td>\n",
       "      <td>0.469</td>\n",
       "      <td>6.421</td>\n",
       "    </tr>\n",
       "    <tr>\n",
       "      <th>2</th>\n",
       "      <td>2</td>\n",
       "      <td>4.03</td>\n",
       "      <td>7.07</td>\n",
       "      <td>0.469</td>\n",
       "      <td>7.185</td>\n",
       "    </tr>\n",
       "    <tr>\n",
       "      <th>3</th>\n",
       "      <td>3</td>\n",
       "      <td>2.94</td>\n",
       "      <td>2.18</td>\n",
       "      <td>0.458</td>\n",
       "      <td>6.998</td>\n",
       "    </tr>\n",
       "    <tr>\n",
       "      <th>4</th>\n",
       "      <td>4</td>\n",
       "      <td>5.33</td>\n",
       "      <td>2.18</td>\n",
       "      <td>0.458</td>\n",
       "      <td>7.147</td>\n",
       "    </tr>\n",
       "  </tbody>\n",
       "</table>\n",
       "</div>"
      ],
      "text/plain": [
       "   LSTAT  INDUS   NOX     RM   MEDV\n",
       "0      0   4.98  2.31  0.538  6.575\n",
       "1      1   9.14  7.07  0.469  6.421\n",
       "2      2   4.03  7.07  0.469  7.185\n",
       "3      3   2.94  2.18  0.458  6.998\n",
       "4      4   5.33  2.18  0.458  7.147"
      ]
     },
     "execution_count": 1,
     "metadata": {},
     "output_type": "execute_result"
    }
   ],
   "source": [
    "import pandas as pd\n",
    "data=pd.read_table('housing.txt')\n",
    "data.head()"
   ]
  },
  {
   "cell_type": "markdown",
   "id": "486de074",
   "metadata": {},
   "source": [
    "# select  the mosst correclated variavle to MEDV "
   ]
  },
  {
   "cell_type": "code",
   "execution_count": 36,
   "id": "2f054728",
   "metadata": {},
   "outputs": [
    {
     "ename": "SyntaxError",
     "evalue": "unterminated string literal (detected at line 1) (178291952.py, line 1)",
     "output_type": "error",
     "traceback": [
      "\u001b[1;36m  Cell \u001b[1;32mIn[36], line 1\u001b[1;36m\u001b[0m\n\u001b[1;33m    c a dire la variable qui a le plus d'effet SUR medv qui est le target donc on utilise .corr()\u001b[0m\n\u001b[1;37m                                        ^\u001b[0m\n\u001b[1;31mSyntaxError\u001b[0m\u001b[1;31m:\u001b[0m unterminated string literal (detected at line 1)\n"
     ]
    }
   ],
   "source": [
    "c a dire la variable qui a le plus d'effet SUR medv qui est le target donc on utilise .corr() "
   ]
  },
  {
   "cell_type": "code",
   "execution_count": 20,
   "id": "5d8dafa0",
   "metadata": {},
   "outputs": [
    {
     "data": {
      "text/html": [
       "<div>\n",
       "<style scoped>\n",
       "    .dataframe tbody tr th:only-of-type {\n",
       "        vertical-align: middle;\n",
       "    }\n",
       "\n",
       "    .dataframe tbody tr th {\n",
       "        vertical-align: top;\n",
       "    }\n",
       "\n",
       "    .dataframe thead th {\n",
       "        text-align: right;\n",
       "    }\n",
       "</style>\n",
       "<table border=\"1\" class=\"dataframe\">\n",
       "  <thead>\n",
       "    <tr style=\"text-align: right;\">\n",
       "      <th></th>\n",
       "      <th>LSTAT</th>\n",
       "      <th>INDUS</th>\n",
       "      <th>NOX</th>\n",
       "      <th>RM</th>\n",
       "      <th>MEDV</th>\n",
       "      <th>MEDV_theoriqur</th>\n",
       "      <th>MEDV_theorique</th>\n",
       "      <th>erreur</th>\n",
       "    </tr>\n",
       "  </thead>\n",
       "  <tbody>\n",
       "    <tr>\n",
       "      <th>LSTAT</th>\n",
       "      <td>1.000000</td>\n",
       "      <td>1.164598e-01</td>\n",
       "      <td>0.077283</td>\n",
       "      <td>-0.426736</td>\n",
       "      <td>-0.292626</td>\n",
       "      <td>-1.164598e-01</td>\n",
       "      <td>-1.164598e-01</td>\n",
       "      <td>-2.801580e-01</td>\n",
       "    </tr>\n",
       "    <tr>\n",
       "      <th>INDUS</th>\n",
       "      <td>0.116460</td>\n",
       "      <td>1.000000e+00</td>\n",
       "      <td>0.567031</td>\n",
       "      <td>0.402239</td>\n",
       "      <td>-0.614110</td>\n",
       "      <td>-1.000000e+00</td>\n",
       "      <td>-1.000000e+00</td>\n",
       "      <td>2.056872e-16</td>\n",
       "    </tr>\n",
       "    <tr>\n",
       "      <th>NOX</th>\n",
       "      <td>0.077283</td>\n",
       "      <td>5.670311e-01</td>\n",
       "      <td>1.000000</td>\n",
       "      <td>0.605432</td>\n",
       "      <td>-0.593455</td>\n",
       "      <td>-5.670311e-01</td>\n",
       "      <td>-5.670311e-01</td>\n",
       "      <td>-3.107319e-01</td>\n",
       "    </tr>\n",
       "    <tr>\n",
       "      <th>RM</th>\n",
       "      <td>-0.426736</td>\n",
       "      <td>4.022388e-01</td>\n",
       "      <td>0.605432</td>\n",
       "      <td>1.000000</td>\n",
       "      <td>-0.372898</td>\n",
       "      <td>-4.022388e-01</td>\n",
       "      <td>-4.022388e-01</td>\n",
       "      <td>-1.594978e-01</td>\n",
       "    </tr>\n",
       "    <tr>\n",
       "      <th>MEDV</th>\n",
       "      <td>-0.292626</td>\n",
       "      <td>-6.141096e-01</td>\n",
       "      <td>-0.593455</td>\n",
       "      <td>-0.372898</td>\n",
       "      <td>1.000000</td>\n",
       "      <td>6.141096e-01</td>\n",
       "      <td>6.141096e-01</td>\n",
       "      <td>7.892207e-01</td>\n",
       "    </tr>\n",
       "    <tr>\n",
       "      <th>MEDV_theoriqur</th>\n",
       "      <td>-0.116460</td>\n",
       "      <td>-1.000000e+00</td>\n",
       "      <td>-0.567031</td>\n",
       "      <td>-0.402239</td>\n",
       "      <td>0.614110</td>\n",
       "      <td>1.000000e+00</td>\n",
       "      <td>1.000000e+00</td>\n",
       "      <td>8.853410e-16</td>\n",
       "    </tr>\n",
       "    <tr>\n",
       "      <th>MEDV_theorique</th>\n",
       "      <td>-0.116460</td>\n",
       "      <td>-1.000000e+00</td>\n",
       "      <td>-0.567031</td>\n",
       "      <td>-0.402239</td>\n",
       "      <td>0.614110</td>\n",
       "      <td>1.000000e+00</td>\n",
       "      <td>1.000000e+00</td>\n",
       "      <td>8.853410e-16</td>\n",
       "    </tr>\n",
       "    <tr>\n",
       "      <th>erreur</th>\n",
       "      <td>-0.280158</td>\n",
       "      <td>2.056872e-16</td>\n",
       "      <td>-0.310732</td>\n",
       "      <td>-0.159498</td>\n",
       "      <td>0.789221</td>\n",
       "      <td>8.853410e-16</td>\n",
       "      <td>8.853410e-16</td>\n",
       "      <td>1.000000e+00</td>\n",
       "    </tr>\n",
       "  </tbody>\n",
       "</table>\n",
       "</div>"
      ],
      "text/plain": [
       "                   LSTAT         INDUS       NOX        RM      MEDV  \\\n",
       "LSTAT           1.000000  1.164598e-01  0.077283 -0.426736 -0.292626   \n",
       "INDUS           0.116460  1.000000e+00  0.567031  0.402239 -0.614110   \n",
       "NOX             0.077283  5.670311e-01  1.000000  0.605432 -0.593455   \n",
       "RM             -0.426736  4.022388e-01  0.605432  1.000000 -0.372898   \n",
       "MEDV           -0.292626 -6.141096e-01 -0.593455 -0.372898  1.000000   \n",
       "MEDV_theoriqur -0.116460 -1.000000e+00 -0.567031 -0.402239  0.614110   \n",
       "MEDV_theorique -0.116460 -1.000000e+00 -0.567031 -0.402239  0.614110   \n",
       "erreur         -0.280158  2.056872e-16 -0.310732 -0.159498  0.789221   \n",
       "\n",
       "                MEDV_theoriqur  MEDV_theorique        erreur  \n",
       "LSTAT            -1.164598e-01   -1.164598e-01 -2.801580e-01  \n",
       "INDUS            -1.000000e+00   -1.000000e+00  2.056872e-16  \n",
       "NOX              -5.670311e-01   -5.670311e-01 -3.107319e-01  \n",
       "RM               -4.022388e-01   -4.022388e-01 -1.594978e-01  \n",
       "MEDV              6.141096e-01    6.141096e-01  7.892207e-01  \n",
       "MEDV_theoriqur    1.000000e+00    1.000000e+00  8.853410e-16  \n",
       "MEDV_theorique    1.000000e+00    1.000000e+00  8.853410e-16  \n",
       "erreur            8.853410e-16    8.853410e-16  1.000000e+00  "
      ]
     },
     "execution_count": 20,
     "metadata": {},
     "output_type": "execute_result"
    }
   ],
   "source": [
    "# select  the mosst correclated variavle to MEDV\n",
    "# plot the correlation matrix : on a choisiiile x\n",
    "data.corr()"
   ]
  },
  {
   "cell_type": "code",
   "execution_count": 5,
   "id": "71c7da5a",
   "metadata": {},
   "outputs": [],
   "source": [
    "#|rho(INDUS, MEDV)| IS THE HIGHEST coefficient . thereby , Indus is the mostly correlated to mEDV tp medv . Indus wil be selected to develop\n",
    "#the linear regression model.\n",
    "# |rho(indusnmedv)| =0.61<0.75  it could be stated that indus and medv are slightly correlated\n",
    "# sind rhi(indus.mdex) <0 the , indus and ledv vary opposite directions in indus rises , the prov=ce of the houses decreanses . \n",
    "# conversly , if the percentage of indesrual settings der=cress , the hiusses rise"
   ]
  },
  {
   "cell_type": "markdown",
   "id": "4371bbd7",
   "metadata": {},
   "source": [
    "the linear regression equation is : medv =a*indus+b"
   ]
  },
  {
   "cell_type": "markdown",
   "id": "6b097609",
   "metadata": {},
   "source": [
    "# devolop the linear regression model"
   ]
  },
  {
   "cell_type": "code",
   "execution_count": 30,
   "id": "1f8bed6e",
   "metadata": {},
   "outputs": [],
   "source": [
    "import statsmodels.formula.api as smf"
   ]
  },
  {
   "cell_type": "code",
   "execution_count": 7,
   "id": "e3d00b55",
   "metadata": {},
   "outputs": [],
   "source": [
    "#step1 : create the linear regression model\n",
    "model_SLR=smf.ols(formula='MEDV~INDUS',data=data).fit()"
   ]
  },
  {
   "cell_type": "code",
   "execution_count": 9,
   "id": "00d35e01",
   "metadata": {},
   "outputs": [],
   "source": [
    "#step2 : extract the slope (a) and intercept(b)\n",
    "b=model_SLR.params.iloc[0]\n",
    "a=model_SLR.params.iloc[1]"
   ]
  },
  {
   "cell_type": "code",
   "execution_count": 10,
   "id": "df66a724",
   "metadata": {},
   "outputs": [
    {
     "name": "stdout",
     "output_type": "stream",
     "text": [
      "MEDV = -0.038767892047012 *INDUS + 6.598612478696699\n"
     ]
    }
   ],
   "source": [
    "# step3 : equation\n",
    "print(\"MEDV =\",a,\"*INDUS +\",b)"
   ]
  },
  {
   "cell_type": "code",
   "execution_count": 12,
   "id": "3d728909",
   "metadata": {
    "scrolled": true
   },
   "outputs": [
    {
     "name": "stdout",
     "output_type": "stream",
     "text": [
      "MEDV=-0.04*INDUS+6.599\n"
     ]
    }
   ],
   "source": [
    "print(\"MEDV={:.2f}*INDUS+{:.3F}\".format(a,b))"
   ]
  },
  {
   "cell_type": "code",
   "execution_count": 15,
   "id": "0d77eee8",
   "metadata": {},
   "outputs": [
    {
     "data": {
      "text/html": [
       "<div>\n",
       "<style scoped>\n",
       "    .dataframe tbody tr th:only-of-type {\n",
       "        vertical-align: middle;\n",
       "    }\n",
       "\n",
       "    .dataframe tbody tr th {\n",
       "        vertical-align: top;\n",
       "    }\n",
       "\n",
       "    .dataframe thead th {\n",
       "        text-align: right;\n",
       "    }\n",
       "</style>\n",
       "<table border=\"1\" class=\"dataframe\">\n",
       "  <thead>\n",
       "    <tr style=\"text-align: right;\">\n",
       "      <th></th>\n",
       "      <th>LSTAT</th>\n",
       "      <th>INDUS</th>\n",
       "      <th>NOX</th>\n",
       "      <th>RM</th>\n",
       "      <th>MEDV</th>\n",
       "      <th>MEDV_theoriqur</th>\n",
       "      <th>MEDV_theorique</th>\n",
       "    </tr>\n",
       "  </thead>\n",
       "  <tbody>\n",
       "    <tr>\n",
       "      <th>0</th>\n",
       "      <td>0</td>\n",
       "      <td>4.98</td>\n",
       "      <td>2.31</td>\n",
       "      <td>0.538</td>\n",
       "      <td>6.575</td>\n",
       "      <td>6.405548</td>\n",
       "      <td>6.405548</td>\n",
       "    </tr>\n",
       "    <tr>\n",
       "      <th>1</th>\n",
       "      <td>1</td>\n",
       "      <td>9.14</td>\n",
       "      <td>7.07</td>\n",
       "      <td>0.469</td>\n",
       "      <td>6.421</td>\n",
       "      <td>6.244274</td>\n",
       "      <td>6.244274</td>\n",
       "    </tr>\n",
       "    <tr>\n",
       "      <th>2</th>\n",
       "      <td>2</td>\n",
       "      <td>4.03</td>\n",
       "      <td>7.07</td>\n",
       "      <td>0.469</td>\n",
       "      <td>7.185</td>\n",
       "      <td>6.442378</td>\n",
       "      <td>6.442378</td>\n",
       "    </tr>\n",
       "    <tr>\n",
       "      <th>3</th>\n",
       "      <td>3</td>\n",
       "      <td>2.94</td>\n",
       "      <td>2.18</td>\n",
       "      <td>0.458</td>\n",
       "      <td>6.998</td>\n",
       "      <td>6.484635</td>\n",
       "      <td>6.484635</td>\n",
       "    </tr>\n",
       "    <tr>\n",
       "      <th>4</th>\n",
       "      <td>4</td>\n",
       "      <td>5.33</td>\n",
       "      <td>2.18</td>\n",
       "      <td>0.458</td>\n",
       "      <td>7.147</td>\n",
       "      <td>6.391980</td>\n",
       "      <td>6.391980</td>\n",
       "    </tr>\n",
       "  </tbody>\n",
       "</table>\n",
       "</div>"
      ],
      "text/plain": [
       "   LSTAT  INDUS   NOX     RM   MEDV  MEDV_theoriqur  MEDV_theorique\n",
       "0      0   4.98  2.31  0.538  6.575        6.405548        6.405548\n",
       "1      1   9.14  7.07  0.469  6.421        6.244274        6.244274\n",
       "2      2   4.03  7.07  0.469  7.185        6.442378        6.442378\n",
       "3      3   2.94  2.18  0.458  6.998        6.484635        6.484635\n",
       "4      4   5.33  2.18  0.458  7.147        6.391980        6.391980"
      ]
     },
     "execution_count": 15,
     "metadata": {},
     "output_type": "execute_result"
    }
   ],
   "source": [
    "data['MEDV_theorique']=a*data['INDUS']+b\n",
    "data.head()"
   ]
  },
  {
   "cell_type": "code",
   "execution_count": 16,
   "id": "1df075fc",
   "metadata": {},
   "outputs": [],
   "source": [
    "data['erreur']=data['MEDV']-data['MEDV_theorique']"
   ]
  },
  {
   "cell_type": "code",
   "execution_count": 18,
   "id": "03ac9d97",
   "metadata": {},
   "outputs": [
    {
     "name": "stdout",
     "output_type": "stream",
     "text": [
      "MSE est:0.11\n"
     ]
    }
   ],
   "source": [
    "# calculer l'erreur statiqtique du modele\n",
    "print(\"MSE est:{:.2f}\".format((data['erreur']**2).mean()))"
   ]
  },
  {
   "cell_type": "code",
   "execution_count": 19,
   "id": "7b562a50",
   "metadata": {},
   "outputs": [
    {
     "data": {
      "text/html": [
       "<table class=\"simpletable\">\n",
       "<caption>OLS Regression Results</caption>\n",
       "<tr>\n",
       "  <th>Dep. Variable:</th>          <td>MEDV</td>       <th>  R-squared:         </th> <td>   0.377</td>\n",
       "</tr>\n",
       "<tr>\n",
       "  <th>Model:</th>                   <td>OLS</td>       <th>  Adj. R-squared:    </th> <td>   0.364</td>\n",
       "</tr>\n",
       "<tr>\n",
       "  <th>Method:</th>             <td>Least Squares</td>  <th>  F-statistic:       </th> <td>   29.06</td>\n",
       "</tr>\n",
       "<tr>\n",
       "  <th>Date:</th>             <td>Wed, 01 May 2024</td> <th>  Prob (F-statistic):</th> <td>2.10e-06</td>\n",
       "</tr>\n",
       "<tr>\n",
       "  <th>Time:</th>                 <td>19:00:52</td>     <th>  Log-Likelihood:    </th> <td> -15.945</td>\n",
       "</tr>\n",
       "<tr>\n",
       "  <th>No. Observations:</th>      <td>    50</td>      <th>  AIC:               </th> <td>   35.89</td>\n",
       "</tr>\n",
       "<tr>\n",
       "  <th>Df Residuals:</th>          <td>    48</td>      <th>  BIC:               </th> <td>   39.71</td>\n",
       "</tr>\n",
       "<tr>\n",
       "  <th>Df Model:</th>              <td>     1</td>      <th>                     </th>     <td> </td>   \n",
       "</tr>\n",
       "<tr>\n",
       "  <th>Covariance Type:</th>      <td>nonrobust</td>    <th>                     </th>     <td> </td>   \n",
       "</tr>\n",
       "</table>\n",
       "<table class=\"simpletable\">\n",
       "<tr>\n",
       "      <td></td>         <th>coef</th>     <th>std err</th>      <th>t</th>      <th>P>|t|</th>  <th>[0.025</th>    <th>0.975]</th>  \n",
       "</tr>\n",
       "<tr>\n",
       "  <th>Intercept</th> <td>    6.5986</td> <td>    0.106</td> <td>   62.011</td> <td> 0.000</td> <td>    6.385</td> <td>    6.813</td>\n",
       "</tr>\n",
       "<tr>\n",
       "  <th>INDUS</th>     <td>   -0.0388</td> <td>    0.007</td> <td>   -5.391</td> <td> 0.000</td> <td>   -0.053</td> <td>   -0.024</td>\n",
       "</tr>\n",
       "</table>\n",
       "<table class=\"simpletable\">\n",
       "<tr>\n",
       "  <th>Omnibus:</th>       <td> 1.654</td> <th>  Durbin-Watson:     </th> <td>   1.070</td>\n",
       "</tr>\n",
       "<tr>\n",
       "  <th>Prob(Omnibus):</th> <td> 0.437</td> <th>  Jarque-Bera (JB):  </th> <td>   1.627</td>\n",
       "</tr>\n",
       "<tr>\n",
       "  <th>Skew:</th>          <td> 0.378</td> <th>  Prob(JB):          </th> <td>   0.443</td>\n",
       "</tr>\n",
       "<tr>\n",
       "  <th>Kurtosis:</th>      <td> 2.543</td> <th>  Cond. No.          </th> <td>    32.9</td>\n",
       "</tr>\n",
       "</table><br/><br/>Notes:<br/>[1] Standard Errors assume that the covariance matrix of the errors is correctly specified."
      ],
      "text/latex": [
       "\\begin{center}\n",
       "\\begin{tabular}{lclc}\n",
       "\\toprule\n",
       "\\textbf{Dep. Variable:}    &       MEDV       & \\textbf{  R-squared:         } &     0.377   \\\\\n",
       "\\textbf{Model:}            &       OLS        & \\textbf{  Adj. R-squared:    } &     0.364   \\\\\n",
       "\\textbf{Method:}           &  Least Squares   & \\textbf{  F-statistic:       } &     29.06   \\\\\n",
       "\\textbf{Date:}             & Wed, 01 May 2024 & \\textbf{  Prob (F-statistic):} &  2.10e-06   \\\\\n",
       "\\textbf{Time:}             &     19:00:52     & \\textbf{  Log-Likelihood:    } &   -15.945   \\\\\n",
       "\\textbf{No. Observations:} &          50      & \\textbf{  AIC:               } &     35.89   \\\\\n",
       "\\textbf{Df Residuals:}     &          48      & \\textbf{  BIC:               } &     39.71   \\\\\n",
       "\\textbf{Df Model:}         &           1      & \\textbf{                     } &             \\\\\n",
       "\\textbf{Covariance Type:}  &    nonrobust     & \\textbf{                     } &             \\\\\n",
       "\\bottomrule\n",
       "\\end{tabular}\n",
       "\\begin{tabular}{lcccccc}\n",
       "                   & \\textbf{coef} & \\textbf{std err} & \\textbf{t} & \\textbf{P$> |$t$|$} & \\textbf{[0.025} & \\textbf{0.975]}  \\\\\n",
       "\\midrule\n",
       "\\textbf{Intercept} &       6.5986  &        0.106     &    62.011  &         0.000        &        6.385    &        6.813     \\\\\n",
       "\\textbf{INDUS}     &      -0.0388  &        0.007     &    -5.391  &         0.000        &       -0.053    &       -0.024     \\\\\n",
       "\\bottomrule\n",
       "\\end{tabular}\n",
       "\\begin{tabular}{lclc}\n",
       "\\textbf{Omnibus:}       &  1.654 & \\textbf{  Durbin-Watson:     } &    1.070  \\\\\n",
       "\\textbf{Prob(Omnibus):} &  0.437 & \\textbf{  Jarque-Bera (JB):  } &    1.627  \\\\\n",
       "\\textbf{Skew:}          &  0.378 & \\textbf{  Prob(JB):          } &    0.443  \\\\\n",
       "\\textbf{Kurtosis:}      &  2.543 & \\textbf{  Cond. No.          } &     32.9  \\\\\n",
       "\\bottomrule\n",
       "\\end{tabular}\n",
       "%\\caption{OLS Regression Results}\n",
       "\\end{center}\n",
       "\n",
       "Notes: \\newline\n",
       " [1] Standard Errors assume that the covariance matrix of the errors is correctly specified."
      ],
      "text/plain": [
       "<class 'statsmodels.iolib.summary.Summary'>\n",
       "\"\"\"\n",
       "                            OLS Regression Results                            \n",
       "==============================================================================\n",
       "Dep. Variable:                   MEDV   R-squared:                       0.377\n",
       "Model:                            OLS   Adj. R-squared:                  0.364\n",
       "Method:                 Least Squares   F-statistic:                     29.06\n",
       "Date:                Wed, 01 May 2024   Prob (F-statistic):           2.10e-06\n",
       "Time:                        19:00:52   Log-Likelihood:                -15.945\n",
       "No. Observations:                  50   AIC:                             35.89\n",
       "Df Residuals:                      48   BIC:                             39.71\n",
       "Df Model:                           1                                         \n",
       "Covariance Type:            nonrobust                                         \n",
       "==============================================================================\n",
       "                 coef    std err          t      P>|t|      [0.025      0.975]\n",
       "------------------------------------------------------------------------------\n",
       "Intercept      6.5986      0.106     62.011      0.000       6.385       6.813\n",
       "INDUS         -0.0388      0.007     -5.391      0.000      -0.053      -0.024\n",
       "==============================================================================\n",
       "Omnibus:                        1.654   Durbin-Watson:                   1.070\n",
       "Prob(Omnibus):                  0.437   Jarque-Bera (JB):                1.627\n",
       "Skew:                           0.378   Prob(JB):                        0.443\n",
       "Kurtosis:                       2.543   Cond. No.                         32.9\n",
       "==============================================================================\n",
       "\n",
       "Notes:\n",
       "[1] Standard Errors assume that the covariance matrix of the errors is correctly specified.\n",
       "\"\"\""
      ]
     },
     "execution_count": 19,
     "metadata": {},
     "output_type": "execute_result"
    }
   ],
   "source": [
    "model_SLR.summary()"
   ]
  },
  {
   "cell_type": "markdown",
   "id": "322df285",
   "metadata": {},
   "source": [
    "# plot the scatter and the linear regression"
   ]
  },
  {
   "cell_type": "code",
   "execution_count": 21,
   "id": "4f9611f0",
   "metadata": {},
   "outputs": [],
   "source": [
    "# import the pyplot class\n",
    "import matplotlib.pyplot as plt"
   ]
  },
  {
   "cell_type": "code",
   "execution_count": 29,
   "id": "caf4fc50",
   "metadata": {},
   "outputs": [
    {
     "data": {
      "image/png": "[encoded data removed]",
      "text/plain": [
       "<Figure size 700x500 with 1 Axes>"
      ]
     },
     "metadata": {},
     "output_type": "display_data"
    }
   ],
   "source": [
    "# lifecycle of a figure\n",
    "#step1 : je declare la figure\n",
    "plt.figure(figsize=(7,5))\n",
    "#step2: add a title\n",
    "plt.title(\"scatter plot and linear regression line\")\n",
    "#step3: Draw the linear regression line \n",
    "plt.plot(data['INDUS'],data['MEDV_theorique'],color='y',lw=8,ls='--',marker='x',label='estimated model')\n",
    "# step4: draw the scatter plot\n",
    "plt.scatter(data['INDUS'],data['MEDV'],c='g',s=data['NOX']*100,label=\"Real values\")\n",
    "# step5 : display the legend\n",
    "plt.legend()\n",
    "#step6: assign titles for x and y\n",
    "plt.xlabel('% of industrial construction in the region')\n",
    "plt.ylabel('Price of construction')\n",
    "\n",
    "\n",
    "plt.show()"
   ]
  },
  {
   "cell_type": "markdown",
   "id": "e9d96f72",
   "metadata": {},
   "source": [
    "# apply multiple linear regression"
   ]
  },
  {
   "cell_type": "markdown",
   "id": "7102ed26",
   "metadata": {},
   "source": [
    "from thesummary() we conclude that R_sqaured : 0.377\n",
    "--> cariations  in INDUS impacts the prices MEDV with 37.7%\n",
    "-- > if INDUS varies the MEDV would also vary with 37.7%\n",
    "example : if induroal settings rise in a region , then the prices of related houses would decrease with about 38%\n",
    "the R-squared < 50% then the adjustement quality given by INDUS is mediore we shoud invetigate other feattire within a multiole linear regression model"
   ]
  },
  {
   "cell_type": "code",
   "execution_count": 33,
   "id": "d4ed8d97",
   "metadata": {},
   "outputs": [],
   "source": [
    "model_MLR=smf.ols(formula='MEDV~INDUS+LSTAT+NOX+RM',data=data).fit()"
   ]
  },
  {
   "cell_type": "code",
   "execution_count": 34,
   "id": "c982502d",
   "metadata": {},
   "outputs": [
    {
     "data": {
      "text/html": [
       "<table class=\"simpletable\">\n",
       "<caption>OLS Regression Results</caption>\n",
       "<tr>\n",
       "  <th>Dep. Variable:</th>          <td>MEDV</td>       <th>  R-squared:         </th> <td>   0.536</td>\n",
       "</tr>\n",
       "<tr>\n",
       "  <th>Model:</th>                   <td>OLS</td>       <th>  Adj. R-squared:    </th> <td>   0.495</td>\n",
       "</tr>\n",
       "<tr>\n",
       "  <th>Method:</th>             <td>Least Squares</td>  <th>  F-statistic:       </th> <td>   13.02</td>\n",
       "</tr>\n",
       "<tr>\n",
       "  <th>Date:</th>             <td>Sun, 05 May 2024</td> <th>  Prob (F-statistic):</th> <td>4.02e-07</td>\n",
       "</tr>\n",
       "<tr>\n",
       "  <th>Time:</th>                 <td>14:23:11</td>     <th>  Log-Likelihood:    </th> <td> -8.5609</td>\n",
       "</tr>\n",
       "<tr>\n",
       "  <th>No. Observations:</th>      <td>    50</td>      <th>  AIC:               </th> <td>   27.12</td>\n",
       "</tr>\n",
       "<tr>\n",
       "  <th>Df Residuals:</th>          <td>    45</td>      <th>  BIC:               </th> <td>   36.68</td>\n",
       "</tr>\n",
       "<tr>\n",
       "  <th>Df Model:</th>              <td>     4</td>      <th>                     </th>     <td> </td>   \n",
       "</tr>\n",
       "<tr>\n",
       "  <th>Covariance Type:</th>      <td>nonrobust</td>    <th>                     </th>     <td> </td>   \n",
       "</tr>\n",
       "</table>\n",
       "<table class=\"simpletable\">\n",
       "<tr>\n",
       "      <td></td>         <th>coef</th>     <th>std err</th>      <th>t</th>      <th>P>|t|</th>  <th>[0.025</th>    <th>0.975]</th>  \n",
       "</tr>\n",
       "<tr>\n",
       "  <th>Intercept</th> <td>    8.2815</td> <td>    0.781</td> <td>   10.607</td> <td> 0.000</td> <td>    6.709</td> <td>    9.854</td>\n",
       "</tr>\n",
       "<tr>\n",
       "  <th>INDUS</th>     <td>   -0.0222</td> <td>    0.008</td> <td>   -2.801</td> <td> 0.007</td> <td>   -0.038</td> <td>   -0.006</td>\n",
       "</tr>\n",
       "<tr>\n",
       "  <th>LSTAT</th>     <td>   -0.0099</td> <td>    0.004</td> <td>   -2.616</td> <td> 0.012</td> <td>   -0.017</td> <td>   -0.002</td>\n",
       "</tr>\n",
       "<tr>\n",
       "  <th>NOX</th>       <td>   -0.0519</td> <td>    0.036</td> <td>   -1.448</td> <td> 0.155</td> <td>   -0.124</td> <td>    0.020</td>\n",
       "</tr>\n",
       "<tr>\n",
       "  <th>RM</th>        <td>   -2.5706</td> <td>    1.724</td> <td>   -1.491</td> <td> 0.143</td> <td>   -6.044</td> <td>    0.902</td>\n",
       "</tr>\n",
       "</table>\n",
       "<table class=\"simpletable\">\n",
       "<tr>\n",
       "  <th>Omnibus:</th>       <td> 3.728</td> <th>  Durbin-Watson:     </th> <td>   1.337</td>\n",
       "</tr>\n",
       "<tr>\n",
       "  <th>Prob(Omnibus):</th> <td> 0.155</td> <th>  Jarque-Bera (JB):  </th> <td>   3.341</td>\n",
       "</tr>\n",
       "<tr>\n",
       "  <th>Skew:</th>          <td> 0.631</td> <th>  Prob(JB):          </th> <td>   0.188</td>\n",
       "</tr>\n",
       "<tr>\n",
       "  <th>Kurtosis:</th>      <td> 2.897</td> <th>  Cond. No.          </th> <td>1.39e+03</td>\n",
       "</tr>\n",
       "</table><br/><br/>Notes:<br/>[1] Standard Errors assume that the covariance matrix of the errors is correctly specified.<br/>[2] The condition number is large, 1.39e+03. This might indicate that there are<br/>strong multicollinearity or other numerical problems."
      ],
      "text/latex": [
       "\\begin{center}\n",
       "\\begin{tabular}{lclc}\n",
       "\\toprule\n",
       "\\textbf{Dep. Variable:}    &       MEDV       & \\textbf{  R-squared:         } &     0.536   \\\\\n",
       "\\textbf{Model:}            &       OLS        & \\textbf{  Adj. R-squared:    } &     0.495   \\\\\n",
       "\\textbf{Method:}           &  Least Squares   & \\textbf{  F-statistic:       } &     13.02   \\\\\n",
       "\\textbf{Date:}             & Sun, 05 May 2024 & \\textbf{  Prob (F-statistic):} &  4.02e-07   \\\\\n",
       "\\textbf{Time:}             &     14:23:11     & \\textbf{  Log-Likelihood:    } &   -8.5609   \\\\\n",
       "\\textbf{No. Observations:} &          50      & \\textbf{  AIC:               } &     27.12   \\\\\n",
       "\\textbf{Df Residuals:}     &          45      & \\textbf{  BIC:               } &     36.68   \\\\\n",
       "\\textbf{Df Model:}         &           4      & \\textbf{                     } &             \\\\\n",
       "\\textbf{Covariance Type:}  &    nonrobust     & \\textbf{                     } &             \\\\\n",
       "\\bottomrule\n",
       "\\end{tabular}\n",
       "\\begin{tabular}{lcccccc}\n",
       "                   & \\textbf{coef} & \\textbf{std err} & \\textbf{t} & \\textbf{P$> |$t$|$} & \\textbf{[0.025} & \\textbf{0.975]}  \\\\\n",
       "\\midrule\n",
       "\\textbf{Intercept} &       8.2815  &        0.781     &    10.607  &         0.000        &        6.709    &        9.854     \\\\\n",
       "\\textbf{INDUS}     &      -0.0222  &        0.008     &    -2.801  &         0.007        &       -0.038    &       -0.006     \\\\\n",
       "\\textbf{LSTAT}     &      -0.0099  &        0.004     &    -2.616  &         0.012        &       -0.017    &       -0.002     \\\\\n",
       "\\textbf{NOX}       &      -0.0519  &        0.036     &    -1.448  &         0.155        &       -0.124    &        0.020     \\\\\n",
       "\\textbf{RM}        &      -2.5706  &        1.724     &    -1.491  &         0.143        &       -6.044    &        0.902     \\\\\n",
       "\\bottomrule\n",
       "\\end{tabular}\n",
       "\\begin{tabular}{lclc}\n",
       "\\textbf{Omnibus:}       &  3.728 & \\textbf{  Durbin-Watson:     } &    1.337  \\\\\n",
       "\\textbf{Prob(Omnibus):} &  0.155 & \\textbf{  Jarque-Bera (JB):  } &    3.341  \\\\\n",
       "\\textbf{Skew:}          &  0.631 & \\textbf{  Prob(JB):          } &    0.188  \\\\\n",
       "\\textbf{Kurtosis:}      &  2.897 & \\textbf{  Cond. No.          } & 1.39e+03  \\\\\n",
       "\\bottomrule\n",
       "\\end{tabular}\n",
       "%\\caption{OLS Regression Results}\n",
       "\\end{center}\n",
       "\n",
       "Notes: \\newline\n",
       " [1] Standard Errors assume that the covariance matrix of the errors is correctly specified. \\newline\n",
       " [2] The condition number is large, 1.39e+03. This might indicate that there are \\newline\n",
       " strong multicollinearity or other numerical problems."
      ],
      "text/plain": [
       "<class 'statsmodels.iolib.summary.Summary'>\n",
       "\"\"\"\n",
       "                            OLS Regression Results                            \n",
       "==============================================================================\n",
       "Dep. Variable:                   MEDV   R-squared:                       0.536\n",
       "Model:                            OLS   Adj. R-squared:                  0.495\n",
       "Method:                 Least Squares   F-statistic:                     13.02\n",
       "Date:                Sun, 05 May 2024   Prob (F-statistic):           4.02e-07\n",
       "Time:                        14:23:11   Log-Likelihood:                -8.5609\n",
       "No. Observations:                  50   AIC:                             27.12\n",
       "Df Residuals:                      45   BIC:                             36.68\n",
       "Df Model:                           4                                         \n",
       "Covariance Type:            nonrobust                                         \n",
       "==============================================================================\n",
       "                 coef    std err          t      P>|t|      [0.025      0.975]\n",
       "------------------------------------------------------------------------------\n",
       "Intercept      8.2815      0.781     10.607      0.000       6.709       9.854\n",
       "INDUS         -0.0222      0.008     -2.801      0.007      -0.038      -0.006\n",
       "LSTAT         -0.0099      0.004     -2.616      0.012      -0.017      -0.002\n",
       "NOX           -0.0519      0.036     -1.448      0.155      -0.124       0.020\n",
       "RM            -2.5706      1.724     -1.491      0.143      -6.044       0.902\n",
       "==============================================================================\n",
       "Omnibus:                        3.728   Durbin-Watson:                   1.337\n",
       "Prob(Omnibus):                  0.155   Jarque-Bera (JB):                3.341\n",
       "Skew:                           0.631   Prob(JB):                        0.188\n",
       "Kurtosis:                       2.897   Cond. No.                     1.39e+03\n",
       "==============================================================================\n",
       "\n",
       "Notes:\n",
       "[1] Standard Errors assume that the covariance matrix of the errors is correctly specified.\n",
       "[2] The condition number is large, 1.39e+03. This might indicate that there are\n",
       "strong multicollinearity or other numerical problems.\n",
       "\"\"\""
      ]
     },
     "execution_count": 34,
     "metadata": {},
     "output_type": "execute_result"
    }
   ],
   "source": [
    "model_MLR.summary()"
   ]
  },
  {
   "cell_type": "markdown",
   "id": "290b5ec5",
   "metadata": {},
   "source": [
    "the R-sqaured is improved . we can say the rml model has ana accuate quality of  ajjustement"
   ]
  },
  {
   "cell_type": "code",
   "execution_count": 35,
   "id": "1d6d4fe9",
   "metadata": {},
   "outputs": [],
   "source": [
    "# 05/5/2024 : photo tel l'exlication des valeur qui apparait dans le tab sammary () les valeurs statiqtiques "
   ]
  },
  {
   "cell_type": "code",
   "execution_count": null,
   "id": "174b7136",
   "metadata": {},
   "outputs": [],
   "source": [
    "# "
   ]
  }
 ],
 "metadata": {
  "kernelspec": {
   "display_name": "Python 3 (ipykernel)",
   "language": "python",
   "name": "python3"
  },
  "language_info": {
   "codemirror_mode": {
    "name": "ipython",
    "version": 3
   },
   "file_extension": ".py",
   "mimetype": "text/x-python",
   "name": "python",
   "nbconvert_exporter": "python",
   "pygments_lexer": "ipython3",
   "version": "3.11.5"
  }
 },
 "nbformat": 4,
 "nbformat_minor": 5
}
